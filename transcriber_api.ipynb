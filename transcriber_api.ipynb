{
  "nbformat": 4,
  "nbformat_minor": 0,
  "metadata": {
    "colab": {
      "provenance": [],
      "gpuType": "T4",
      "authorship_tag": "ABX9TyO53lNxGfVCUeDtl58163KI",
      "include_colab_link": true
    },
    "kernelspec": {
      "name": "python3",
      "display_name": "Python 3"
    },
    "language_info": {
      "name": "python"
    },
    "accelerator": "GPU"
  },
  "cells": [
    {
      "cell_type": "markdown",
      "metadata": {
        "id": "view-in-github",
        "colab_type": "text"
      },
      "source": [
        "<a href=\"https://colab.research.google.com/github/karimabbes/note_taker/blob/main/transcriber_api.ipynb\" target=\"_parent\"><img src=\"https://colab.research.google.com/assets/colab-badge.svg\" alt=\"Open In Colab\"/></a>"
      ]
    },
    {
      "cell_type": "code",
      "execution_count": 1,
      "metadata": {
        "colab": {
          "base_uri": "https://localhost:8080/"
        },
        "id": "LYnNPoVHA_Mg",
        "outputId": "96520b9f-d0ca-4a7d-fc41-47ab57fc0454"
      },
      "outputs": [
        {
          "output_type": "stream",
          "name": "stdout",
          "text": [
            "Requirement already satisfied: fastapi in /usr/local/lib/python3.11/dist-packages (0.115.12)\n",
            "Requirement already satisfied: uvicorn in /usr/local/lib/python3.11/dist-packages (0.34.3)\n",
            "Requirement already satisfied: pyngrok in /usr/local/lib/python3.11/dist-packages (7.2.11)\n",
            "Requirement already satisfied: nest-asyncio in /usr/local/lib/python3.11/dist-packages (1.6.0)\n",
            "Requirement already satisfied: python-multipart in /usr/local/lib/python3.11/dist-packages (0.0.20)\n",
            "Requirement already satisfied: starlette<0.47.0,>=0.40.0 in /usr/local/lib/python3.11/dist-packages (from fastapi) (0.46.2)\n",
            "Requirement already satisfied: pydantic!=1.8,!=1.8.1,!=2.0.0,!=2.0.1,!=2.1.0,<3.0.0,>=1.7.4 in /usr/local/lib/python3.11/dist-packages (from fastapi) (2.11.5)\n",
            "Requirement already satisfied: typing-extensions>=4.8.0 in /usr/local/lib/python3.11/dist-packages (from fastapi) (4.14.0)\n",
            "Requirement already satisfied: click>=7.0 in /usr/local/lib/python3.11/dist-packages (from uvicorn) (8.2.1)\n",
            "Requirement already satisfied: h11>=0.8 in /usr/local/lib/python3.11/dist-packages (from uvicorn) (0.16.0)\n",
            "Requirement already satisfied: PyYAML>=5.1 in /usr/local/lib/python3.11/dist-packages (from pyngrok) (6.0.2)\n",
            "Requirement already satisfied: annotated-types>=0.6.0 in /usr/local/lib/python3.11/dist-packages (from pydantic!=1.8,!=1.8.1,!=2.0.0,!=2.0.1,!=2.1.0,<3.0.0,>=1.7.4->fastapi) (0.7.0)\n",
            "Requirement already satisfied: pydantic-core==2.33.2 in /usr/local/lib/python3.11/dist-packages (from pydantic!=1.8,!=1.8.1,!=2.0.0,!=2.0.1,!=2.1.0,<3.0.0,>=1.7.4->fastapi) (2.33.2)\n",
            "Requirement already satisfied: typing-inspection>=0.4.0 in /usr/local/lib/python3.11/dist-packages (from pydantic!=1.8,!=1.8.1,!=2.0.0,!=2.0.1,!=2.1.0,<3.0.0,>=1.7.4->fastapi) (0.4.1)\n",
            "Requirement already satisfied: anyio<5,>=3.6.2 in /usr/local/lib/python3.11/dist-packages (from starlette<0.47.0,>=0.40.0->fastapi) (4.9.0)\n",
            "Requirement already satisfied: idna>=2.8 in /usr/local/lib/python3.11/dist-packages (from anyio<5,>=3.6.2->starlette<0.47.0,>=0.40.0->fastapi) (3.10)\n",
            "Requirement already satisfied: sniffio>=1.1 in /usr/local/lib/python3.11/dist-packages (from anyio<5,>=3.6.2->starlette<0.47.0,>=0.40.0->fastapi) (1.3.1)\n",
            "Collecting git+https://github.com/zackees/transcribe-anything.git\n",
            "  Cloning https://github.com/zackees/transcribe-anything.git to /tmp/pip-req-build-l_gisibc\n",
            "  Running command git clone --filter=blob:none --quiet https://github.com/zackees/transcribe-anything.git /tmp/pip-req-build-l_gisibc\n",
            "  Resolved https://github.com/zackees/transcribe-anything.git to commit 9281bdea3a38ddc93e1b3c002ab53e2dae1125b6\n",
            "  Installing build dependencies ... \u001b[?25l\u001b[?25hdone\n",
            "  Getting requirements to build wheel ... \u001b[?25l\u001b[?25hdone\n",
            "  Preparing metadata (pyproject.toml) ... \u001b[?25l\u001b[?25hdone\n",
            "Requirement already satisfied: static-ffmpeg>=2.7 in /usr/local/lib/python3.11/dist-packages (from transcribe-anything==3.2.0) (2.13)\n",
            "Requirement already satisfied: yt-dlp>=2025.1.15 in /usr/local/lib/python3.11/dist-packages (from transcribe-anything==3.2.0) (2025.6.9)\n",
            "Requirement already satisfied: appdirs>=1.4.4 in /usr/local/lib/python3.11/dist-packages (from transcribe-anything==3.2.0) (1.4.4)\n",
            "Requirement already satisfied: disklru>=1.0.7 in /usr/local/lib/python3.11/dist-packages (from transcribe-anything==3.2.0) (2.0.4)\n",
            "Requirement already satisfied: FileLock in /usr/local/lib/python3.11/dist-packages (from transcribe-anything==3.2.0) (3.18.0)\n",
            "Requirement already satisfied: webvtt-py==0.4.6 in /usr/local/lib/python3.11/dist-packages (from transcribe-anything==3.2.0) (0.4.6)\n",
            "Requirement already satisfied: uv-iso-env>=1.0.43 in /usr/local/lib/python3.11/dist-packages (from transcribe-anything==3.2.0) (1.0.43)\n",
            "Requirement already satisfied: python-dotenv>=1.0.1 in /usr/local/lib/python3.11/dist-packages (from transcribe-anything==3.2.0) (1.1.0)\n",
            "Requirement already satisfied: docopt in /usr/local/lib/python3.11/dist-packages (from webvtt-py==0.4.6->transcribe-anything==3.2.0) (0.6.2)\n",
            "Requirement already satisfied: requests in /usr/local/lib/python3.11/dist-packages (from static-ffmpeg>=2.7->transcribe-anything==3.2.0) (2.32.3)\n",
            "Requirement already satisfied: progress in /usr/local/lib/python3.11/dist-packages (from static-ffmpeg>=2.7->transcribe-anything==3.2.0) (1.6)\n",
            "Requirement already satisfied: twine>=3.8.0 in /usr/local/lib/python3.11/dist-packages (from static-ffmpeg>=2.7->transcribe-anything==3.2.0) (6.1.0)\n",
            "Requirement already satisfied: uv>=0.6.4 in /usr/local/lib/python3.11/dist-packages (from uv-iso-env>=1.0.43->transcribe-anything==3.2.0) (0.7.13)\n",
            "Requirement already satisfied: readme-renderer>=35.0 in /usr/local/lib/python3.11/dist-packages (from twine>=3.8.0->static-ffmpeg>=2.7->transcribe-anything==3.2.0) (44.0)\n",
            "Requirement already satisfied: requests-toolbelt!=0.9.0,>=0.8.0 in /usr/local/lib/python3.11/dist-packages (from twine>=3.8.0->static-ffmpeg>=2.7->transcribe-anything==3.2.0) (1.0.0)\n",
            "Requirement already satisfied: urllib3>=1.26.0 in /usr/local/lib/python3.11/dist-packages (from twine>=3.8.0->static-ffmpeg>=2.7->transcribe-anything==3.2.0) (2.4.0)\n",
            "Requirement already satisfied: keyring>=15.1 in /usr/local/lib/python3.11/dist-packages (from twine>=3.8.0->static-ffmpeg>=2.7->transcribe-anything==3.2.0) (25.6.0)\n",
            "Requirement already satisfied: rfc3986>=1.4.0 in /usr/local/lib/python3.11/dist-packages (from twine>=3.8.0->static-ffmpeg>=2.7->transcribe-anything==3.2.0) (2.0.0)\n",
            "Requirement already satisfied: rich>=12.0.0 in /usr/local/lib/python3.11/dist-packages (from twine>=3.8.0->static-ffmpeg>=2.7->transcribe-anything==3.2.0) (13.9.4)\n",
            "Requirement already satisfied: packaging>=24.0 in /usr/local/lib/python3.11/dist-packages (from twine>=3.8.0->static-ffmpeg>=2.7->transcribe-anything==3.2.0) (24.2)\n",
            "Requirement already satisfied: id in /usr/local/lib/python3.11/dist-packages (from twine>=3.8.0->static-ffmpeg>=2.7->transcribe-anything==3.2.0) (1.5.0)\n",
            "Requirement already satisfied: charset-normalizer<4,>=2 in /usr/local/lib/python3.11/dist-packages (from requests->static-ffmpeg>=2.7->transcribe-anything==3.2.0) (3.4.2)\n",
            "Requirement already satisfied: idna<4,>=2.5 in /usr/local/lib/python3.11/dist-packages (from requests->static-ffmpeg>=2.7->transcribe-anything==3.2.0) (3.10)\n",
            "Requirement already satisfied: certifi>=2017.4.17 in /usr/local/lib/python3.11/dist-packages (from requests->static-ffmpeg>=2.7->transcribe-anything==3.2.0) (2025.4.26)\n",
            "Requirement already satisfied: SecretStorage>=3.2 in /usr/local/lib/python3.11/dist-packages (from keyring>=15.1->twine>=3.8.0->static-ffmpeg>=2.7->transcribe-anything==3.2.0) (3.3.3)\n",
            "Requirement already satisfied: jeepney>=0.4.2 in /usr/local/lib/python3.11/dist-packages (from keyring>=15.1->twine>=3.8.0->static-ffmpeg>=2.7->transcribe-anything==3.2.0) (0.9.0)\n",
            "Requirement already satisfied: importlib_metadata>=4.11.4 in /usr/local/lib/python3.11/dist-packages (from keyring>=15.1->twine>=3.8.0->static-ffmpeg>=2.7->transcribe-anything==3.2.0) (8.7.0)\n",
            "Requirement already satisfied: jaraco.classes in /usr/local/lib/python3.11/dist-packages (from keyring>=15.1->twine>=3.8.0->static-ffmpeg>=2.7->transcribe-anything==3.2.0) (3.4.0)\n",
            "Requirement already satisfied: jaraco.functools in /usr/local/lib/python3.11/dist-packages (from keyring>=15.1->twine>=3.8.0->static-ffmpeg>=2.7->transcribe-anything==3.2.0) (4.1.0)\n",
            "Requirement already satisfied: jaraco.context in /usr/local/lib/python3.11/dist-packages (from keyring>=15.1->twine>=3.8.0->static-ffmpeg>=2.7->transcribe-anything==3.2.0) (6.0.1)\n",
            "Requirement already satisfied: nh3>=0.2.14 in /usr/local/lib/python3.11/dist-packages (from readme-renderer>=35.0->twine>=3.8.0->static-ffmpeg>=2.7->transcribe-anything==3.2.0) (0.2.21)\n",
            "Requirement already satisfied: docutils>=0.21.2 in /usr/local/lib/python3.11/dist-packages (from readme-renderer>=35.0->twine>=3.8.0->static-ffmpeg>=2.7->transcribe-anything==3.2.0) (0.21.2)\n",
            "Requirement already satisfied: Pygments>=2.5.1 in /usr/local/lib/python3.11/dist-packages (from readme-renderer>=35.0->twine>=3.8.0->static-ffmpeg>=2.7->transcribe-anything==3.2.0) (2.19.1)\n",
            "Requirement already satisfied: markdown-it-py>=2.2.0 in /usr/local/lib/python3.11/dist-packages (from rich>=12.0.0->twine>=3.8.0->static-ffmpeg>=2.7->transcribe-anything==3.2.0) (3.0.0)\n",
            "Requirement already satisfied: zipp>=3.20 in /usr/local/lib/python3.11/dist-packages (from importlib_metadata>=4.11.4->keyring>=15.1->twine>=3.8.0->static-ffmpeg>=2.7->transcribe-anything==3.2.0) (3.22.0)\n",
            "Requirement already satisfied: mdurl~=0.1 in /usr/local/lib/python3.11/dist-packages (from markdown-it-py>=2.2.0->rich>=12.0.0->twine>=3.8.0->static-ffmpeg>=2.7->transcribe-anything==3.2.0) (0.1.2)\n",
            "Requirement already satisfied: cryptography>=2.0 in /usr/local/lib/python3.11/dist-packages (from SecretStorage>=3.2->keyring>=15.1->twine>=3.8.0->static-ffmpeg>=2.7->transcribe-anything==3.2.0) (43.0.3)\n",
            "Requirement already satisfied: more-itertools in /usr/local/lib/python3.11/dist-packages (from jaraco.classes->keyring>=15.1->twine>=3.8.0->static-ffmpeg>=2.7->transcribe-anything==3.2.0) (10.7.0)\n",
            "Requirement already satisfied: backports.tarfile in /usr/local/lib/python3.11/dist-packages (from jaraco.context->keyring>=15.1->twine>=3.8.0->static-ffmpeg>=2.7->transcribe-anything==3.2.0) (1.2.0)\n",
            "Requirement already satisfied: cffi>=1.12 in /usr/local/lib/python3.11/dist-packages (from cryptography>=2.0->SecretStorage>=3.2->keyring>=15.1->twine>=3.8.0->static-ffmpeg>=2.7->transcribe-anything==3.2.0) (1.17.1)\n",
            "Requirement already satisfied: pycparser in /usr/local/lib/python3.11/dist-packages (from cffi>=1.12->cryptography>=2.0->SecretStorage>=3.2->keyring>=15.1->twine>=3.8.0->static-ffmpeg>=2.7->transcribe-anything==3.2.0) (2.22)\n"
          ]
        }
      ],
      "source": [
        "!pip install fastapi uvicorn pyngrok nest-asyncio python-multipart\n",
        "!pip install git+https://github.com/zackees/transcribe-anything.git\n"
      ]
    },
    {
      "cell_type": "code",
      "source": [
        "# ⚙️ Step 2: Import modules and set up FastAPI + ngrok\n",
        "import nest_asyncio\n",
        "from fastapi import FastAPI, UploadFile, File\n",
        "from fastapi.responses import JSONResponse\n",
        "from pyngrok import ngrok, conf\n",
        "import uvicorn\n",
        "import tempfile\n",
        "import os\n",
        "import transcribe_anything as ta\n",
        "import nest_asyncio\n",
        "\n",
        "conf.get_default().auth_token = \"2ZWnfh1fWxmNVe6duA5erHAj9AA_2FXEESgv7sswWM4V2vvKN\"  # paste your token here\n",
        "\n",
        "app = FastAPI()\n",
        "nest_asyncio.apply()\n",
        "\n",
        "# Set up ngrok tunnel\n",
        "public_url = ngrok.connect(8000)\n",
        "print(f\"🚀 Public API URL: {public_url}/transcribe\")\n",
        "\n",
        "nest_asyncio.apply()\n"
      ],
      "metadata": {
        "colab": {
          "base_uri": "https://localhost:8080/"
        },
        "id": "LdyiiSrWCQX1",
        "outputId": "c0969826-36f9-4d60-c0e5-48ad52e374d3"
      },
      "execution_count": 2,
      "outputs": [
        {
          "output_type": "stream",
          "name": "stdout",
          "text": [
            "🚀 Public API URL: NgrokTunnel: \"https://bfd0-34-82-83-235.ngrok-free.app\" -> \"http://localhost:8000\"/transcribe\n"
          ]
        }
      ]
    },
    {
      "cell_type": "code",
      "source": [
        "# 📥 Step 3: Define transcription endpoint\n",
        "@app.post(\"/transcribe\")\n",
        "async def transcribe(file: UploadFile = File(...)):\n",
        "    try:\n",
        "        # Save the uploaded file temporarily\n",
        "        with tempfile.NamedTemporaryFile(delete=False, suffix=\".mp3\") as tmp:\n",
        "            tmp.write(await file.read())\n",
        "            tmp_path = tmp.name\n",
        "\n",
        "        # Use transcribe-anything\n",
        "        transcript = ta.transcribe_anything(url_or_file=tmp_path, output_dir=\"output_dir\", task=\"transcribe\", model=\"large\", device=\"cuda\")\n",
        "        os.remove(tmp_path)\n",
        "        return JSONResponse(content={\"transcript\": transcript})\n",
        "    except Exception as e:\n",
        "        return JSONResponse(status_code=500, content={\"error\": str(e)})"
      ],
      "metadata": {
        "id": "h7rhxpecEelh"
      },
      "execution_count": 3,
      "outputs": []
    },
    {
      "cell_type": "code",
      "source": [
        "uvicorn.run(app, host=\"0.0.0.0\", port=8000)"
      ],
      "metadata": {
        "colab": {
          "base_uri": "https://localhost:8080/"
        },
        "id": "tri3wQWFEnzh",
        "outputId": "8b6381a9-b67b-4d9a-d858-4749077f9b9f"
      },
      "execution_count": 5,
      "outputs": [
        {
          "output_type": "stream",
          "name": "stderr",
          "text": [
            "INFO:     Started server process [9277]\n",
            "INFO:     Waiting for application startup.\n",
            "INFO:     Application startup complete.\n",
            "INFO:     Uvicorn running on http://0.0.0.0:8000 (Press CTRL+C to quit)\n"
          ]
        },
        {
          "output_type": "stream",
          "name": "stdout",
          "text": [
            "INFO:     109.7.252.95:0 - \"GET /apple-touch-icon.png HTTP/1.1\" 404 Not Found\n",
            "INFO:     109.7.252.95:0 - \"GET /favicon.ico HTTP/1.1\" 404 Not Found\n",
            "INFO:     109.7.252.95:0 - \"GET /apple-touch-icon-precomposed.png HTTP/1.1\" 404 Not Found\n",
            "Downloading https://github.com/zackees/ffmpeg_bins/raw/main/v5.0/linux.zip -> /usr/local/lib/python3.11/dist-packages/static_ffmpeg/bin/linux.zip\n",
            "\n",
            "Download of https://github.com/zackees/ffmpeg_bins/raw/main/v5.0/linux.zip -> /usr/local/lib/python3.11/dist-packages/static_ffmpeg/bin/linux.zip completed.\n",
            "Extracting /usr/local/lib/python3.11/dist-packages/static_ffmpeg/bin/linux.zip -> /usr/local/lib/python3.11/dist-packages/static_ffmpeg/bin\n",
            "making dir output_dir\n"
          ]
        },
        {
          "output_type": "stream",
          "name": "stderr",
          "text": [
            "Running:\n",
            "  /usr/local/bin/static_ffmpeg -y -i /tmp/tmpt1c76c7g.mp3 -acodec pcm_s16le -ar 44100 -ac 1 out.wav\n"
          ]
        },
        {
          "output_type": "stream",
          "name": "stdout",
          "text": [
            "#####################################\n",
            "######### GPU ACCELERATED! ##########\n",
            "#####################################\n",
            "Using device cuda\n",
            "Running whisper on /tmp/tmpiftp6wux.wav (will install models on first run)\n",
            "Purging...\n",
            "venv_path does not exist.\n"
          ]
        },
        {
          "output_type": "stream",
          "name": "stderr",
          "text": [
            "Debug: Detected NVIDIA availability: True for fingerprint: Linux-x86_64-#1 SMP PREEMPT_DYNAMIC Sun Mar 30 16:01:29 UTC 2025-nvidia_smi:True\n",
            "Running:\n",
            "  whisper /tmp/tmpiftp6wux.wav --device cuda --model large --output_dir /tmp/tmphh0jbr4j --task transcribe\n"
          ]
        },
        {
          "output_type": "stream",
          "name": "stdout",
          "text": [
            "Done! Files were saved to /content/output_dir\n"
          ]
        },
        {
          "output_type": "stream",
          "name": "stderr",
          "text": [
            "INFO:     Shutting down\n",
            "INFO:     Waiting for application shutdown.\n",
            "INFO:     Application shutdown complete.\n",
            "INFO:     Finished server process [9277]\n"
          ]
        }
      ]
    }
  ]
}